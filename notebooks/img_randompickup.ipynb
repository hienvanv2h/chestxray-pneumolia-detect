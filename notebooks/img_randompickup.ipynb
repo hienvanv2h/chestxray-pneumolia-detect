{
 "cells": [
  {
   "cell_type": "code",
   "execution_count": 1,
   "metadata": {},
   "outputs": [],
   "source": [
    "import os\n",
    "import shutil\n",
    "import random"
   ]
  },
  {
   "cell_type": "code",
   "execution_count": 2,
   "metadata": {},
   "outputs": [],
   "source": [
    "# Đường dẫn đến các thư mục\n",
    "train_dir = 'chest-xray-pneumonia/chest_xray_2/train'\n",
    "val_dir = 'chest-xray-pneumonia/chest_xray_2/val'"
   ]
  },
  {
   "cell_type": "code",
   "execution_count": null,
   "metadata": {},
   "outputs": [],
   "source": [
    "# Đường dẫn đến các thư mục NORMAL và PNEUMONIA trong thư mục train\n",
    "normal_train_dir = os.path.join(train_dir, 'NORMAL')\n",
    "pneumonia_train_dir = os.path.join(train_dir, 'PNEUMONIA')\n",
    "\n",
    "# Đường dẫn đến các thư mục NORMAL và PNEUMONIA trong thư mục val\n",
    "normal_val_dir = os.path.join(val_dir, 'NORMAL')\n",
    "pneumonia_val_dir = os.path.join(val_dir, 'PNEUMONIA')\n",
    "\n",
    "# Tạo các thư mục val nếu chưa tồn tại\n",
    "os.makedirs(normal_val_dir, exist_ok=True)\n",
    "os.makedirs(pneumonia_val_dir, exist_ok=True)\n",
    "\n",
    "# Lấy danh sách các file ảnh trong từng thư mục\n",
    "normal_images = os.listdir(normal_train_dir)\n",
    "pneumonia_images = os.listdir(pneumonia_train_dir)\n",
    "\n",
    "# Chọn ngẫu nhiên lượng ảnh NORMAL và 100 ảnh PNEUMONIA\n",
    "pneu_per_nor = 1.5\n",
    "k_normal = 236\n",
    "k_pneu = int(pneu_per_nor * k_normal)\n",
    "\n",
    "random_normal_images = random.sample(normal_images, k_normal)\n",
    "random_pneumonia_images = random.sample(pneumonia_images, k_pneu)\n",
    "\n",
    "# Di chuyển ảnh NORMAL từ train sang val\n",
    "for image in random_normal_images:\n",
    "    src = os.path.join(normal_train_dir, image)\n",
    "    dst = os.path.join(normal_val_dir, image)\n",
    "    shutil.move(src, dst)\n",
    "\n",
    "# Di chuyển ảnh PNEUMONIA từ train sang val\n",
    "for image in random_pneumonia_images:\n",
    "    src = os.path.join(pneumonia_train_dir, image)\n",
    "    dst = os.path.join(pneumonia_val_dir, image)\n",
    "    shutil.move(src, dst)\n",
    "\n",
    "print(\"Di chuyển ảnh thành công.\")\n"
   ]
  },
  {
   "cell_type": "code",
   "execution_count": 3,
   "metadata": {},
   "outputs": [
    {
     "name": "stdout",
     "output_type": "stream",
     "text": [
      "Train set:\n",
      "========================================\n",
      "PNEUMONIA=3521\n",
      "NORMAL=1105\n",
      "Validation set:\n",
      "========================================\n",
      "PNEUMONIA=362\n",
      "NORMAL=244\n"
     ]
    }
   ],
   "source": [
    "print(\"Train set:\\n========================================\")\n",
    "num_pneumonia = len(os.listdir(os.path.join(train_dir, 'PNEUMONIA')))\n",
    "num_normal = len(os.listdir(os.path.join(train_dir, 'NORMAL')))\n",
    "print(f\"PNEUMONIA={num_pneumonia}\")\n",
    "print(f\"NORMAL={num_normal}\")\n",
    "\n",
    "print(\"Validation set:\\n========================================\")\n",
    "print(f\"PNEUMONIA={len(os.listdir(os.path.join(val_dir, 'PNEUMONIA')))}\")\n",
    "print(f\"NORMAL={len(os.listdir(os.path.join(val_dir, 'NORMAL')))}\")"
   ]
  }
 ],
 "metadata": {
  "kernelspec": {
   "display_name": "base",
   "language": "python",
   "name": "python3"
  },
  "language_info": {
   "codemirror_mode": {
    "name": "ipython",
    "version": 3
   },
   "file_extension": ".py",
   "mimetype": "text/x-python",
   "name": "python",
   "nbconvert_exporter": "python",
   "pygments_lexer": "ipython3",
   "version": "3.12.4"
  }
 },
 "nbformat": 4,
 "nbformat_minor": 2
}
